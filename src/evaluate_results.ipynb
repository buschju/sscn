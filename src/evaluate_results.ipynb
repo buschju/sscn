{
 "cells": [
  {
   "cell_type": "code",
   "execution_count": 1,
   "metadata": {},
   "outputs": [],
   "source": [
    "from eval_utils import export_from_mlflow"
   ]
  },
  {
   "cell_type": "code",
   "execution_count": 2,
   "metadata": {},
   "outputs": [
    {
     "name": "stderr",
     "output_type": "stream",
     "text": [
      "/root/anaconda3/lib/python3.7/site-packages/ipykernel/ipkernel.py:287: DeprecationWarning: `should_run_async` will not call `transform_cell` automatically in the future. Please pass the result to `transformed_cell` argument and any exception that happen during thetransform in `preprocessing_exc_tuple` in IPython 7.17 and above.\n",
      "  and should_run_async(code)\n"
     ]
    }
   ],
   "source": [
    "import warnings\n",
    "warnings.filterwarnings('ignore')\n",
    "warnings.simplefilter('ignore')"
   ]
  },
  {
   "cell_type": "markdown",
   "metadata": {},
   "source": [
    "## Load results from MLFlow"
   ]
  },
  {
   "cell_type": "code",
   "execution_count": 3,
   "metadata": {},
   "outputs": [],
   "source": [
    "mlflow_uri='../mlflow'\n",
    "mlflow_experiment_name='sscn'\n",
    "metrics=['acc',\n",
    "         'ari', \n",
    "         'nmi',\n",
    "         'acc_test',\n",
    "         'ari_test',\n",
    "         'nmi_test',\n",
    "         'memory_gb',\n",
    "         'memory_test_gb',\n",
    "         'num_params', \n",
    "        ]\n",
    "\n",
    "results_df = export_from_mlflow(mlflow_uri=mlflow_uri,\n",
    "                                mlflow_experiment_name=mlflow_experiment_name,\n",
    "                                metrics=metrics,\n",
    "                               )\n",
    "results_by_dataset_and_model = results_df.groupby(['dataset_name', 'model_name'])"
   ]
  },
  {
   "cell_type": "markdown",
   "metadata": {},
   "source": [
    "## Mean performance"
   ]
  },
  {
   "cell_type": "code",
   "execution_count": 4,
   "metadata": {},
   "outputs": [
    {
     "data": {
      "text/html": [
       "<div>\n",
       "<style scoped>\n",
       "    .dataframe tbody tr th:only-of-type {\n",
       "        vertical-align: middle;\n",
       "    }\n",
       "\n",
       "    .dataframe tbody tr th {\n",
       "        vertical-align: top;\n",
       "    }\n",
       "\n",
       "    .dataframe thead th {\n",
       "        text-align: right;\n",
       "    }\n",
       "</style>\n",
       "<table border=\"1\" class=\"dataframe\">\n",
       "  <thead>\n",
       "    <tr style=\"text-align: right;\">\n",
       "      <th></th>\n",
       "      <th></th>\n",
       "      <th>acc</th>\n",
       "      <th>acc_test</th>\n",
       "      <th>ari</th>\n",
       "      <th>ari_test</th>\n",
       "      <th>memory_gb</th>\n",
       "      <th>memory_test_gb</th>\n",
       "      <th>nmi</th>\n",
       "      <th>nmi_test</th>\n",
       "      <th>num_params</th>\n",
       "    </tr>\n",
       "    <tr>\n",
       "      <th>dataset_name</th>\n",
       "      <th>model_name</th>\n",
       "      <th></th>\n",
       "      <th></th>\n",
       "      <th></th>\n",
       "      <th></th>\n",
       "      <th></th>\n",
       "      <th></th>\n",
       "      <th></th>\n",
       "      <th></th>\n",
       "      <th></th>\n",
       "    </tr>\n",
       "  </thead>\n",
       "  <tbody>\n",
       "    <tr>\n",
       "      <th rowspan=\"2\" valign=\"top\">MNIST_test</th>\n",
       "      <th>DscNetConv</th>\n",
       "      <td>0.63540</td>\n",
       "      <td>NaN</td>\n",
       "      <td>0.574175</td>\n",
       "      <td>NaN</td>\n",
       "      <td>2.706204</td>\n",
       "      <td>NaN</td>\n",
       "      <td>0.723412</td>\n",
       "      <td>NaN</td>\n",
       "      <td>100014991.0</td>\n",
       "    </tr>\n",
       "    <tr>\n",
       "      <th>SscnConv</th>\n",
       "      <td>0.67983</td>\n",
       "      <td>0.673912</td>\n",
       "      <td>0.585337</td>\n",
       "      <td>0.571034</td>\n",
       "      <td>0.192008</td>\n",
       "      <td>0.192008</td>\n",
       "      <td>0.694767</td>\n",
       "      <td>0.671521</td>\n",
       "      <td>66291.0</td>\n",
       "    </tr>\n",
       "  </tbody>\n",
       "</table>\n",
       "</div>"
      ],
      "text/plain": [
       "                             acc  acc_test       ari  ari_test  memory_gb  \\\n",
       "dataset_name model_name                                                     \n",
       "MNIST_test   DscNetConv  0.63540       NaN  0.574175       NaN   2.706204   \n",
       "             SscnConv    0.67983  0.673912  0.585337  0.571034   0.192008   \n",
       "\n",
       "                         memory_test_gb       nmi  nmi_test   num_params  \n",
       "dataset_name model_name                                                   \n",
       "MNIST_test   DscNetConv             NaN  0.723412       NaN  100014991.0  \n",
       "             SscnConv          0.192008  0.694767  0.671521      66291.0  "
      ]
     },
     "execution_count": 4,
     "metadata": {},
     "output_type": "execute_result"
    }
   ],
   "source": [
    "results_by_dataset_and_model.mean()"
   ]
  },
  {
   "cell_type": "markdown",
   "metadata": {},
   "source": [
    "## Standard deviation"
   ]
  },
  {
   "cell_type": "code",
   "execution_count": 5,
   "metadata": {},
   "outputs": [
    {
     "data": {
      "text/html": [
       "<div>\n",
       "<style scoped>\n",
       "    .dataframe tbody tr th:only-of-type {\n",
       "        vertical-align: middle;\n",
       "    }\n",
       "\n",
       "    .dataframe tbody tr th {\n",
       "        vertical-align: top;\n",
       "    }\n",
       "\n",
       "    .dataframe thead th {\n",
       "        text-align: right;\n",
       "    }\n",
       "</style>\n",
       "<table border=\"1\" class=\"dataframe\">\n",
       "  <thead>\n",
       "    <tr style=\"text-align: right;\">\n",
       "      <th></th>\n",
       "      <th></th>\n",
       "      <th>acc</th>\n",
       "      <th>acc_test</th>\n",
       "      <th>ari</th>\n",
       "      <th>ari_test</th>\n",
       "      <th>memory_gb</th>\n",
       "      <th>memory_test_gb</th>\n",
       "      <th>nmi</th>\n",
       "      <th>nmi_test</th>\n",
       "      <th>num_params</th>\n",
       "    </tr>\n",
       "    <tr>\n",
       "      <th>dataset_name</th>\n",
       "      <th>model_name</th>\n",
       "      <th></th>\n",
       "      <th></th>\n",
       "      <th></th>\n",
       "      <th></th>\n",
       "      <th></th>\n",
       "      <th></th>\n",
       "      <th></th>\n",
       "      <th></th>\n",
       "      <th></th>\n",
       "    </tr>\n",
       "  </thead>\n",
       "  <tbody>\n",
       "    <tr>\n",
       "      <th rowspan=\"2\" valign=\"top\">MNIST_test</th>\n",
       "      <th>DscNetConv</th>\n",
       "      <td>0.00000</td>\n",
       "      <td>0.000000</td>\n",
       "      <td>0.000000</td>\n",
       "      <td>0.000000</td>\n",
       "      <td>0.0</td>\n",
       "      <td>0.0</td>\n",
       "      <td>0.000000</td>\n",
       "      <td>0.000000</td>\n",
       "      <td>0.0</td>\n",
       "    </tr>\n",
       "    <tr>\n",
       "      <th>SscnConv</th>\n",
       "      <td>0.03399</td>\n",
       "      <td>0.033802</td>\n",
       "      <td>0.033429</td>\n",
       "      <td>0.032733</td>\n",
       "      <td>0.0</td>\n",
       "      <td>0.0</td>\n",
       "      <td>0.023825</td>\n",
       "      <td>0.023394</td>\n",
       "      <td>0.0</td>\n",
       "    </tr>\n",
       "  </tbody>\n",
       "</table>\n",
       "</div>"
      ],
      "text/plain": [
       "                             acc  acc_test       ari  ari_test  memory_gb  \\\n",
       "dataset_name model_name                                                     \n",
       "MNIST_test   DscNetConv  0.00000  0.000000  0.000000  0.000000        0.0   \n",
       "             SscnConv    0.03399  0.033802  0.033429  0.032733        0.0   \n",
       "\n",
       "                         memory_test_gb       nmi  nmi_test  num_params  \n",
       "dataset_name model_name                                                  \n",
       "MNIST_test   DscNetConv             0.0  0.000000  0.000000         0.0  \n",
       "             SscnConv               0.0  0.023825  0.023394         0.0  "
      ]
     },
     "execution_count": 5,
     "metadata": {},
     "output_type": "execute_result"
    }
   ],
   "source": [
    "results_by_dataset_and_model.std().fillna(0.)"
   ]
  }
 ],
 "metadata": {
  "kernelspec": {
   "display_name": "Python 3",
   "language": "python",
   "name": "python3"
  },
  "language_info": {
   "codemirror_mode": {
    "name": "ipython",
    "version": 3
   },
   "file_extension": ".py",
   "mimetype": "text/x-python",
   "name": "python",
   "nbconvert_exporter": "python",
   "pygments_lexer": "ipython3",
   "version": "3.7.4"
  }
 },
 "nbformat": 4,
 "nbformat_minor": 1
}
